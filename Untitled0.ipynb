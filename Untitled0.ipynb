{
  "nbformat": 4,
  "nbformat_minor": 0,
  "metadata": {
    "colab": {
      "provenance": [],
      "authorship_tag": "ABX9TyP/SVy6T5Nkw/aPSTfSNEqs",
      "include_colab_link": true
    },
    "kernelspec": {
      "name": "python3",
      "display_name": "Python 3"
    },
    "language_info": {
      "name": "python"
    }
  },
  "cells": [
    {
      "cell_type": "markdown",
      "metadata": {
        "id": "view-in-github",
        "colab_type": "text"
      },
      "source": [
        "<a href=\"https://colab.research.google.com/github/Samuel48114/Samuel48114/blob/main/Untitled0.ipynb\" target=\"_parent\"><img src=\"https://colab.research.google.com/assets/colab-badge.svg\" alt=\"Open In Colab\"/></a>"
      ]
    },
    {
      "cell_type": "code",
      "execution_count": 9,
      "metadata": {
        "colab": {
          "base_uri": "https://localhost:8080/"
        },
        "id": "zVsZrAe7j82L",
        "outputId": "426dec34-a432-4f4b-e66e-2b96cabeabb5"
      },
      "outputs": [
        {
          "output_type": "stream",
          "name": "stdout",
          "text": [
            "Digite o valor 1:\n",
            " -> 10\n",
            "Digite o valor 2:\n",
            " -> 10\n",
            "Erro: Divisão por zero não permitida.\n"
          ]
        }
      ],
      "source": [
        "x = float(input('Digite o valor 1:\\n -> '))\n",
        "y = float(input('Digite o valor 2:\\n -> '))\n",
        "\n",
        "try:\n",
        "    z = (x**2 + y**2) / (x - y)\n",
        "    print('Resultado: {}'.format(z))\n",
        "except ZeroDivisionError:\n",
        "    print('Erro: Divisão por zero não permitida.')"
      ]
    }
  ]
}